{
  "nbformat": 4,
  "nbformat_minor": 0,
  "metadata": {
    "colab": {
      "provenance": []
    },
    "kernelspec": {
      "name": "python3",
      "display_name": "Python 3"
    },
    "language_info": {
      "name": "python"
    }
  },
  "cells": [
    {
      "cell_type": "code",
      "execution_count": 1,
      "metadata": {
        "colab": {
          "base_uri": "https://localhost:8080/"
        },
        "id": "0FDK7zW6XNDv",
        "outputId": "caec995c-80e0-41bc-8fa0-eb9bb2e0e402"
      },
      "outputs": [
        {
          "output_type": "stream",
          "name": "stdout",
          "text": [
            "Looking in indexes: https://pypi.org/simple, https://us-python.pkg.dev/colab-wheels/public/simple/\n",
            "Requirement already satisfied: gym in /usr/local/lib/python3.9/dist-packages (0.25.2)\n",
            "Requirement already satisfied: cloudpickle>=1.2.0 in /usr/local/lib/python3.9/dist-packages (from gym) (2.2.1)\n",
            "Requirement already satisfied: importlib-metadata>=4.8.0 in /usr/local/lib/python3.9/dist-packages (from gym) (6.1.0)\n",
            "Requirement already satisfied: gym-notices>=0.0.4 in /usr/local/lib/python3.9/dist-packages (from gym) (0.0.8)\n",
            "Requirement already satisfied: numpy>=1.18.0 in /usr/local/lib/python3.9/dist-packages (from gym) (1.22.4)\n",
            "Requirement already satisfied: zipp>=0.5 in /usr/local/lib/python3.9/dist-packages (from importlib-metadata>=4.8.0->gym) (3.15.0)\n"
          ]
        }
      ],
      "source": [
        "pip install gym "
      ]
    },
    {
      "cell_type": "code",
      "source": [
        "pip install numpy"
      ],
      "metadata": {
        "colab": {
          "base_uri": "https://localhost:8080/"
        },
        "id": "DAFU-yQGOy-C",
        "outputId": "157d4be6-81e0-4628-e64a-5a693073ae03"
      },
      "execution_count": 2,
      "outputs": [
        {
          "output_type": "stream",
          "name": "stdout",
          "text": [
            "Looking in indexes: https://pypi.org/simple, https://us-python.pkg.dev/colab-wheels/public/simple/\n",
            "Requirement already satisfied: numpy in /usr/local/lib/python3.9/dist-packages (1.22.4)\n"
          ]
        }
      ]
    },
    {
      "cell_type": "code",
      "source": [
        "pip install tensorflow "
      ],
      "metadata": {
        "colab": {
          "base_uri": "https://localhost:8080/"
        },
        "id": "YwG0IQRzO0ZB",
        "outputId": "c1aad176-e53a-4750-9596-ff32a977b0e7"
      },
      "execution_count": 3,
      "outputs": [
        {
          "output_type": "stream",
          "name": "stdout",
          "text": [
            "Looking in indexes: https://pypi.org/simple, https://us-python.pkg.dev/colab-wheels/public/simple/\n",
            "Requirement already satisfied: tensorflow in /usr/local/lib/python3.9/dist-packages (2.11.0)\n",
            "Requirement already satisfied: packaging in /usr/local/lib/python3.9/dist-packages (from tensorflow) (23.0)\n",
            "Requirement already satisfied: numpy>=1.20 in /usr/local/lib/python3.9/dist-packages (from tensorflow) (1.22.4)\n",
            "Requirement already satisfied: termcolor>=1.1.0 in /usr/local/lib/python3.9/dist-packages (from tensorflow) (2.2.0)\n",
            "Requirement already satisfied: grpcio<2.0,>=1.24.3 in /usr/local/lib/python3.9/dist-packages (from tensorflow) (1.51.3)\n",
            "Requirement already satisfied: h5py>=2.9.0 in /usr/local/lib/python3.9/dist-packages (from tensorflow) (3.8.0)\n",
            "Requirement already satisfied: google-pasta>=0.1.1 in /usr/local/lib/python3.9/dist-packages (from tensorflow) (0.2.0)\n",
            "Requirement already satisfied: libclang>=13.0.0 in /usr/local/lib/python3.9/dist-packages (from tensorflow) (15.0.6.1)\n",
            "Requirement already satisfied: gast<=0.4.0,>=0.2.1 in /usr/local/lib/python3.9/dist-packages (from tensorflow) (0.4.0)\n",
            "Requirement already satisfied: tensorflow-io-gcs-filesystem>=0.23.1 in /usr/local/lib/python3.9/dist-packages (from tensorflow) (0.31.0)\n",
            "Requirement already satisfied: protobuf<3.20,>=3.9.2 in /usr/local/lib/python3.9/dist-packages (from tensorflow) (3.19.6)\n",
            "Requirement already satisfied: tensorboard<2.12,>=2.11 in /usr/local/lib/python3.9/dist-packages (from tensorflow) (2.11.2)\n",
            "Requirement already satisfied: flatbuffers>=2.0 in /usr/local/lib/python3.9/dist-packages (from tensorflow) (23.3.3)\n",
            "Requirement already satisfied: astunparse>=1.6.0 in /usr/local/lib/python3.9/dist-packages (from tensorflow) (1.6.3)\n",
            "Requirement already satisfied: setuptools in /usr/local/lib/python3.9/dist-packages (from tensorflow) (67.6.0)\n",
            "Requirement already satisfied: keras<2.12,>=2.11.0 in /usr/local/lib/python3.9/dist-packages (from tensorflow) (2.11.0)\n",
            "Requirement already satisfied: absl-py>=1.0.0 in /usr/local/lib/python3.9/dist-packages (from tensorflow) (1.4.0)\n",
            "Requirement already satisfied: opt-einsum>=2.3.2 in /usr/local/lib/python3.9/dist-packages (from tensorflow) (3.3.0)\n",
            "Requirement already satisfied: six>=1.12.0 in /usr/local/lib/python3.9/dist-packages (from tensorflow) (1.16.0)\n",
            "Requirement already satisfied: wrapt>=1.11.0 in /usr/local/lib/python3.9/dist-packages (from tensorflow) (1.15.0)\n",
            "Requirement already satisfied: tensorflow-estimator<2.12,>=2.11.0 in /usr/local/lib/python3.9/dist-packages (from tensorflow) (2.11.0)\n",
            "Requirement already satisfied: typing-extensions>=3.6.6 in /usr/local/lib/python3.9/dist-packages (from tensorflow) (4.5.0)\n",
            "Requirement already satisfied: wheel<1.0,>=0.23.0 in /usr/local/lib/python3.9/dist-packages (from astunparse>=1.6.0->tensorflow) (0.40.0)\n",
            "Requirement already satisfied: requests<3,>=2.21.0 in /usr/local/lib/python3.9/dist-packages (from tensorboard<2.12,>=2.11->tensorflow) (2.27.1)\n",
            "Requirement already satisfied: tensorboard-plugin-wit>=1.6.0 in /usr/local/lib/python3.9/dist-packages (from tensorboard<2.12,>=2.11->tensorflow) (1.8.1)\n",
            "Requirement already satisfied: markdown>=2.6.8 in /usr/local/lib/python3.9/dist-packages (from tensorboard<2.12,>=2.11->tensorflow) (3.4.3)\n",
            "Requirement already satisfied: werkzeug>=1.0.1 in /usr/local/lib/python3.9/dist-packages (from tensorboard<2.12,>=2.11->tensorflow) (2.2.3)\n",
            "Requirement already satisfied: google-auth<3,>=1.6.3 in /usr/local/lib/python3.9/dist-packages (from tensorboard<2.12,>=2.11->tensorflow) (2.16.2)\n",
            "Requirement already satisfied: google-auth-oauthlib<0.5,>=0.4.1 in /usr/local/lib/python3.9/dist-packages (from tensorboard<2.12,>=2.11->tensorflow) (0.4.6)\n",
            "Requirement already satisfied: tensorboard-data-server<0.7.0,>=0.6.0 in /usr/local/lib/python3.9/dist-packages (from tensorboard<2.12,>=2.11->tensorflow) (0.6.1)\n",
            "Requirement already satisfied: cachetools<6.0,>=2.0.0 in /usr/local/lib/python3.9/dist-packages (from google-auth<3,>=1.6.3->tensorboard<2.12,>=2.11->tensorflow) (5.3.0)\n",
            "Requirement already satisfied: pyasn1-modules>=0.2.1 in /usr/local/lib/python3.9/dist-packages (from google-auth<3,>=1.6.3->tensorboard<2.12,>=2.11->tensorflow) (0.2.8)\n",
            "Requirement already satisfied: rsa<5,>=3.1.4 in /usr/local/lib/python3.9/dist-packages (from google-auth<3,>=1.6.3->tensorboard<2.12,>=2.11->tensorflow) (4.9)\n",
            "Requirement already satisfied: requests-oauthlib>=0.7.0 in /usr/local/lib/python3.9/dist-packages (from google-auth-oauthlib<0.5,>=0.4.1->tensorboard<2.12,>=2.11->tensorflow) (1.3.1)\n",
            "Requirement already satisfied: importlib-metadata>=4.4 in /usr/local/lib/python3.9/dist-packages (from markdown>=2.6.8->tensorboard<2.12,>=2.11->tensorflow) (6.1.0)\n",
            "Requirement already satisfied: charset-normalizer~=2.0.0 in /usr/local/lib/python3.9/dist-packages (from requests<3,>=2.21.0->tensorboard<2.12,>=2.11->tensorflow) (2.0.12)\n",
            "Requirement already satisfied: idna<4,>=2.5 in /usr/local/lib/python3.9/dist-packages (from requests<3,>=2.21.0->tensorboard<2.12,>=2.11->tensorflow) (3.4)\n",
            "Requirement already satisfied: urllib3<1.27,>=1.21.1 in /usr/local/lib/python3.9/dist-packages (from requests<3,>=2.21.0->tensorboard<2.12,>=2.11->tensorflow) (1.26.15)\n",
            "Requirement already satisfied: certifi>=2017.4.17 in /usr/local/lib/python3.9/dist-packages (from requests<3,>=2.21.0->tensorboard<2.12,>=2.11->tensorflow) (2022.12.7)\n",
            "Requirement already satisfied: MarkupSafe>=2.1.1 in /usr/local/lib/python3.9/dist-packages (from werkzeug>=1.0.1->tensorboard<2.12,>=2.11->tensorflow) (2.1.2)\n",
            "Requirement already satisfied: zipp>=0.5 in /usr/local/lib/python3.9/dist-packages (from importlib-metadata>=4.4->markdown>=2.6.8->tensorboard<2.12,>=2.11->tensorflow) (3.15.0)\n",
            "Requirement already satisfied: pyasn1<0.5.0,>=0.4.6 in /usr/local/lib/python3.9/dist-packages (from pyasn1-modules>=0.2.1->google-auth<3,>=1.6.3->tensorboard<2.12,>=2.11->tensorflow) (0.4.8)\n",
            "Requirement already satisfied: oauthlib>=3.0.0 in /usr/local/lib/python3.9/dist-packages (from requests-oauthlib>=0.7.0->google-auth-oauthlib<0.5,>=0.4.1->tensorboard<2.12,>=2.11->tensorflow) (3.2.2)\n"
          ]
        }
      ]
    },
    {
      "cell_type": "code",
      "source": [
        "import gym\n",
        "import numpy as np\n",
        "import tensorflow as tf\n",
        "from tensorflow.keras.layers import Dense"
      ],
      "metadata": {
        "id": "-5wlQV33O9hN"
      },
      "execution_count": 2,
      "outputs": []
    },
    {
      "cell_type": "code",
      "source": [
        "# Create a simple policy network\n",
        "def create_policy_network(input_dim, output_dim):\n",
        "    model = tf.keras.Sequential([\n",
        "        Dense(64, activation='relu', input_shape=(input_dim,)),\n",
        "        Dense(64, activation='relu'),\n",
        "        Dense(output_dim, activation='softmax')\n",
        "    ])\n",
        "    return model"
      ],
      "metadata": {
        "id": "5P_0BT3KPEwM"
      },
      "execution_count": 3,
      "outputs": []
    },
    {
      "cell_type": "code",
      "source": [
        "# Choose an action according to the policy network output\n",
        "def choose_action(policy_network, state):\n",
        "    action_probs = policy_network(state[np.newaxis,:]).numpy().flatten()\n",
        "    action = np.random.choice(range(len(action_probs)), p=action_probs)\n",
        "    return action\n",
        "\n",
        "# Compute the discounted rewards\n",
        "def discounted_rewards(rewards, gamma):\n",
        "    discounted = np.zeros_like(rewards)\n",
        "    cumulative = 0\n",
        "    for i in reversed(range(len(rewards))):\n",
        "        cumulative = cumulative * gamma + rewards[i]\n",
        "        discounted[i] = cumulative\n",
        "    return discounted\n"
      ],
      "metadata": {
        "id": "leu4A6XRPJ6U"
      },
      "execution_count": 4,
      "outputs": []
    },
    {
      "cell_type": "code",
      "source": [
        "# Train the policy network using policy gradient\n",
        "def train_policy_network(policy_network, states, actions, rewards, gamma=0.99):\n",
        "    discounted_r = discounted_rewards(rewards, gamma)\n",
        "    discounted_r -= np.mean(discounted_r)\n",
        "    discounted_r /= np.std(discounted_r)\n",
        "\n",
        "    with tf.GradientTape() as tape:\n",
        "        logits = policy_network(states)\n",
        "        action_masks = tf.one_hot(actions, num_actions)\n",
        "        log_probs = tf.reduce_sum(action_masks * tf.math.log(logits), axis=1)\n",
        "        loss = -tf.reduce_sum(log_probs * discounted_r)\n",
        "\n",
        "    grads = tape.gradient(loss, policy_network.trainable_variables)\n",
        "    optimizer.apply_gradients(zip(grads, policy_network.trainable_variables))\n"
      ],
      "metadata": {
        "id": "unKDwOOuPTm5"
      },
      "execution_count": 5,
      "outputs": []
    },
    {
      "cell_type": "code",
      "source": [
        "env = gym.make('CartPole')\n",
        "num_actions = env.action_space.n\n",
        "state_dim = env.observation_space.shape[0]\n",
        "print(state_dim)\n",
        "print(num_actions)\n",
        "\n",
        "policy_network = create_policy_network(state_dim, num_actions)\n",
        "optimizer = tf.keras.optimizers.Adam(lr=0.001)\n",
        "\n",
        "num_episodes = 1000\n",
        "for episode in range(num_episodes):\n",
        "    state = env.reset()\n",
        "    episode_states, episode_actions, episode_rewards = [], [], []\n",
        "    action = choose_action(policy_network, state)\n",
        "\n",
        "    while True:\n",
        "        next_state, reward, done, _ = env.step(action)\n",
        "\n",
        "        episode_states.append(state)\n",
        "        episode_actions.append(action)\n",
        "        episode_rewards.append(reward)\n",
        "\n",
        "        state = next_state\n",
        "        action = choose_action(policy_network, state)\n",
        "\n",
        "        if done:\n",
        "            break\n",
        "\n",
        "    # Train the policy network using the collected data\n",
        "    states = np.array(episode_states, dtype=np.float32)\n",
        "    actions = np.array(episode_actions, dtype=np.int32)\n",
        "    rewards = np.array(episode_rewards, dtype=np.float32)\n",
        "\n",
        "    train_policy_network(policy_network, states, actions, rewards)\n",
        "\n",
        "    print(f'Episode {episode + 1}, '\n",
        "          f'Total reward: {sum(episode_rewards):.2f}, '\n",
        "          f'Episode length: {len(episode_rewards)}')"
      ],
      "metadata": {
        "colab": {
          "base_uri": "https://localhost:8080/"
        },
        "id": "CWPkx1CyPNHo",
        "outputId": "b421cda2-f1d9-446d-cdf8-c715a6cad899"
      },
      "execution_count": null,
      "outputs": [
        {
          "output_type": "stream",
          "name": "stderr",
          "text": [
            "WARNING:absl:`lr` is deprecated, please use `learning_rate` instead, or use the legacy optimizer, e.g.,tf.keras.optimizers.legacy.Adam.\n"
          ]
        },
        {
          "output_type": "stream",
          "name": "stdout",
          "text": [
            "4\n",
            "2\n",
            "Episode 1, Total reward: 18.00, Episode length: 18\n",
            "Episode 2, Total reward: 29.00, Episode length: 29\n",
            "Episode 3, Total reward: 21.00, Episode length: 21\n",
            "Episode 4, Total reward: 53.00, Episode length: 53\n",
            "Episode 5, Total reward: 25.00, Episode length: 25\n",
            "Episode 6, Total reward: 19.00, Episode length: 19\n",
            "Episode 7, Total reward: 10.00, Episode length: 10\n",
            "Episode 8, Total reward: 12.00, Episode length: 12\n",
            "Episode 9, Total reward: 25.00, Episode length: 25\n",
            "Episode 10, Total reward: 19.00, Episode length: 19\n",
            "Episode 11, Total reward: 21.00, Episode length: 21\n",
            "Episode 12, Total reward: 42.00, Episode length: 42\n",
            "Episode 13, Total reward: 54.00, Episode length: 54\n",
            "Episode 14, Total reward: 13.00, Episode length: 13\n",
            "Episode 15, Total reward: 25.00, Episode length: 25\n",
            "Episode 16, Total reward: 32.00, Episode length: 32\n",
            "Episode 17, Total reward: 16.00, Episode length: 16\n",
            "Episode 18, Total reward: 37.00, Episode length: 37\n",
            "Episode 19, Total reward: 23.00, Episode length: 23\n",
            "Episode 20, Total reward: 20.00, Episode length: 20\n",
            "Episode 21, Total reward: 51.00, Episode length: 51\n",
            "Episode 22, Total reward: 21.00, Episode length: 21\n",
            "Episode 23, Total reward: 45.00, Episode length: 45\n",
            "Episode 24, Total reward: 41.00, Episode length: 41\n",
            "Episode 25, Total reward: 62.00, Episode length: 62\n",
            "Episode 26, Total reward: 19.00, Episode length: 19\n",
            "Episode 27, Total reward: 20.00, Episode length: 20\n",
            "Episode 28, Total reward: 19.00, Episode length: 19\n",
            "Episode 29, Total reward: 21.00, Episode length: 21\n",
            "Episode 30, Total reward: 19.00, Episode length: 19\n",
            "Episode 31, Total reward: 17.00, Episode length: 17\n",
            "Episode 32, Total reward: 31.00, Episode length: 31\n",
            "Episode 33, Total reward: 25.00, Episode length: 25\n",
            "Episode 34, Total reward: 18.00, Episode length: 18\n",
            "Episode 35, Total reward: 37.00, Episode length: 37\n",
            "Episode 36, Total reward: 20.00, Episode length: 20\n",
            "Episode 37, Total reward: 23.00, Episode length: 23\n",
            "Episode 38, Total reward: 17.00, Episode length: 17\n",
            "Episode 39, Total reward: 41.00, Episode length: 41\n",
            "Episode 40, Total reward: 34.00, Episode length: 34\n",
            "Episode 41, Total reward: 14.00, Episode length: 14\n",
            "Episode 42, Total reward: 44.00, Episode length: 44\n",
            "Episode 43, Total reward: 35.00, Episode length: 35\n",
            "Episode 44, Total reward: 19.00, Episode length: 19\n",
            "Episode 45, Total reward: 85.00, Episode length: 85\n",
            "Episode 46, Total reward: 42.00, Episode length: 42\n",
            "Episode 47, Total reward: 17.00, Episode length: 17\n",
            "Episode 48, Total reward: 38.00, Episode length: 38\n",
            "Episode 49, Total reward: 21.00, Episode length: 21\n",
            "Episode 50, Total reward: 86.00, Episode length: 86\n",
            "Episode 51, Total reward: 20.00, Episode length: 20\n",
            "Episode 52, Total reward: 30.00, Episode length: 30\n",
            "Episode 53, Total reward: 78.00, Episode length: 78\n",
            "Episode 54, Total reward: 78.00, Episode length: 78\n",
            "Episode 55, Total reward: 20.00, Episode length: 20\n",
            "Episode 56, Total reward: 43.00, Episode length: 43\n",
            "Episode 57, Total reward: 14.00, Episode length: 14\n",
            "Episode 58, Total reward: 29.00, Episode length: 29\n",
            "Episode 59, Total reward: 14.00, Episode length: 14\n",
            "Episode 60, Total reward: 33.00, Episode length: 33\n",
            "Episode 61, Total reward: 56.00, Episode length: 56\n",
            "Episode 62, Total reward: 70.00, Episode length: 70\n",
            "Episode 63, Total reward: 54.00, Episode length: 54\n",
            "Episode 64, Total reward: 51.00, Episode length: 51\n",
            "Episode 65, Total reward: 42.00, Episode length: 42\n",
            "Episode 66, Total reward: 66.00, Episode length: 66\n",
            "Episode 67, Total reward: 45.00, Episode length: 45\n",
            "Episode 68, Total reward: 28.00, Episode length: 28\n",
            "Episode 69, Total reward: 33.00, Episode length: 33\n",
            "Episode 70, Total reward: 25.00, Episode length: 25\n",
            "Episode 71, Total reward: 48.00, Episode length: 48\n",
            "Episode 72, Total reward: 33.00, Episode length: 33\n",
            "Episode 73, Total reward: 43.00, Episode length: 43\n",
            "Episode 74, Total reward: 44.00, Episode length: 44\n",
            "Episode 75, Total reward: 61.00, Episode length: 61\n",
            "Episode 76, Total reward: 13.00, Episode length: 13\n",
            "Episode 77, Total reward: 21.00, Episode length: 21\n",
            "Episode 78, Total reward: 67.00, Episode length: 67\n",
            "Episode 79, Total reward: 36.00, Episode length: 36\n",
            "Episode 80, Total reward: 31.00, Episode length: 31\n",
            "Episode 81, Total reward: 90.00, Episode length: 90\n",
            "Episode 82, Total reward: 41.00, Episode length: 41\n",
            "Episode 83, Total reward: 53.00, Episode length: 53\n",
            "Episode 84, Total reward: 21.00, Episode length: 21\n",
            "Episode 85, Total reward: 19.00, Episode length: 19\n",
            "Episode 86, Total reward: 28.00, Episode length: 28\n",
            "Episode 87, Total reward: 26.00, Episode length: 26\n",
            "Episode 88, Total reward: 76.00, Episode length: 76\n",
            "Episode 89, Total reward: 210.00, Episode length: 210\n",
            "Episode 90, Total reward: 98.00, Episode length: 98\n",
            "Episode 91, Total reward: 64.00, Episode length: 64\n",
            "Episode 92, Total reward: 65.00, Episode length: 65\n",
            "Episode 93, Total reward: 71.00, Episode length: 71\n",
            "Episode 94, Total reward: 59.00, Episode length: 59\n",
            "Episode 95, Total reward: 79.00, Episode length: 79\n",
            "Episode 96, Total reward: 66.00, Episode length: 66\n",
            "Episode 97, Total reward: 48.00, Episode length: 48\n",
            "Episode 98, Total reward: 59.00, Episode length: 59\n",
            "Episode 99, Total reward: 158.00, Episode length: 158\n",
            "Episode 100, Total reward: 35.00, Episode length: 35\n",
            "Episode 101, Total reward: 55.00, Episode length: 55\n",
            "Episode 102, Total reward: 363.00, Episode length: 363\n",
            "Episode 103, Total reward: 18.00, Episode length: 18\n",
            "Episode 104, Total reward: 86.00, Episode length: 86\n",
            "Episode 105, Total reward: 103.00, Episode length: 103\n",
            "Episode 106, Total reward: 328.00, Episode length: 328\n",
            "Episode 107, Total reward: 68.00, Episode length: 68\n",
            "Episode 108, Total reward: 70.00, Episode length: 70\n",
            "Episode 109, Total reward: 68.00, Episode length: 68\n",
            "Episode 110, Total reward: 132.00, Episode length: 132\n",
            "Episode 111, Total reward: 162.00, Episode length: 162\n",
            "Episode 112, Total reward: 232.00, Episode length: 232\n",
            "Episode 113, Total reward: 103.00, Episode length: 103\n",
            "Episode 114, Total reward: 180.00, Episode length: 180\n",
            "Episode 115, Total reward: 134.00, Episode length: 134\n",
            "Episode 116, Total reward: 148.00, Episode length: 148\n",
            "Episode 117, Total reward: 213.00, Episode length: 213\n",
            "Episode 118, Total reward: 153.00, Episode length: 153\n",
            "Episode 119, Total reward: 216.00, Episode length: 216\n",
            "Episode 120, Total reward: 188.00, Episode length: 188\n",
            "Episode 121, Total reward: 141.00, Episode length: 141\n",
            "Episode 122, Total reward: 129.00, Episode length: 129\n",
            "Episode 123, Total reward: 160.00, Episode length: 160\n",
            "Episode 124, Total reward: 104.00, Episode length: 104\n",
            "Episode 125, Total reward: 65.00, Episode length: 65\n",
            "Episode 126, Total reward: 42.00, Episode length: 42\n",
            "Episode 127, Total reward: 142.00, Episode length: 142\n",
            "Episode 128, Total reward: 119.00, Episode length: 119\n",
            "Episode 129, Total reward: 127.00, Episode length: 127\n",
            "Episode 130, Total reward: 44.00, Episode length: 44\n",
            "Episode 131, Total reward: 192.00, Episode length: 192\n",
            "Episode 132, Total reward: 105.00, Episode length: 105\n",
            "Episode 133, Total reward: 188.00, Episode length: 188\n",
            "Episode 134, Total reward: 44.00, Episode length: 44\n",
            "Episode 135, Total reward: 168.00, Episode length: 168\n",
            "Episode 136, Total reward: 105.00, Episode length: 105\n",
            "Episode 137, Total reward: 71.00, Episode length: 71\n",
            "Episode 138, Total reward: 81.00, Episode length: 81\n",
            "Episode 139, Total reward: 95.00, Episode length: 95\n",
            "Episode 140, Total reward: 79.00, Episode length: 79\n",
            "Episode 141, Total reward: 118.00, Episode length: 118\n",
            "Episode 142, Total reward: 59.00, Episode length: 59\n",
            "Episode 143, Total reward: 112.00, Episode length: 112\n",
            "Episode 144, Total reward: 45.00, Episode length: 45\n",
            "Episode 145, Total reward: 131.00, Episode length: 131\n",
            "Episode 146, Total reward: 305.00, Episode length: 305\n",
            "Episode 147, Total reward: 129.00, Episode length: 129\n",
            "Episode 148, Total reward: 99.00, Episode length: 99\n",
            "Episode 149, Total reward: 156.00, Episode length: 156\n",
            "Episode 150, Total reward: 155.00, Episode length: 155\n",
            "Episode 151, Total reward: 88.00, Episode length: 88\n",
            "Episode 152, Total reward: 114.00, Episode length: 114\n",
            "Episode 153, Total reward: 160.00, Episode length: 160\n",
            "Episode 154, Total reward: 264.00, Episode length: 264\n",
            "Episode 155, Total reward: 182.00, Episode length: 182\n",
            "Episode 156, Total reward: 272.00, Episode length: 272\n",
            "Episode 157, Total reward: 500.00, Episode length: 500\n",
            "Episode 158, Total reward: 329.00, Episode length: 329\n",
            "Episode 159, Total reward: 370.00, Episode length: 370\n",
            "Episode 160, Total reward: 174.00, Episode length: 174\n",
            "Episode 161, Total reward: 297.00, Episode length: 297\n",
            "Episode 162, Total reward: 210.00, Episode length: 210\n",
            "Episode 163, Total reward: 64.00, Episode length: 64\n",
            "Episode 164, Total reward: 212.00, Episode length: 212\n",
            "Episode 165, Total reward: 196.00, Episode length: 196\n",
            "Episode 166, Total reward: 167.00, Episode length: 167\n",
            "Episode 167, Total reward: 201.00, Episode length: 201\n",
            "Episode 168, Total reward: 204.00, Episode length: 204\n",
            "Episode 169, Total reward: 193.00, Episode length: 193\n",
            "Episode 170, Total reward: 177.00, Episode length: 177\n",
            "Episode 171, Total reward: 206.00, Episode length: 206\n",
            "Episode 172, Total reward: 154.00, Episode length: 154\n",
            "Episode 173, Total reward: 500.00, Episode length: 500\n",
            "Episode 174, Total reward: 252.00, Episode length: 252\n",
            "Episode 175, Total reward: 260.00, Episode length: 260\n",
            "Episode 176, Total reward: 473.00, Episode length: 473\n",
            "Episode 177, Total reward: 322.00, Episode length: 322\n",
            "Episode 178, Total reward: 463.00, Episode length: 463\n",
            "Episode 179, Total reward: 500.00, Episode length: 500\n",
            "Episode 180, Total reward: 500.00, Episode length: 500\n",
            "Episode 181, Total reward: 216.00, Episode length: 216\n"
          ]
        }
      ]
    },
    {
      "cell_type": "code",
      "source": [],
      "metadata": {
        "id": "E_NAkL_kPd6s"
      },
      "execution_count": null,
      "outputs": []
    }
  ]
}