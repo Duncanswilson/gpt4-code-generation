{
  "nbformat": 4,
  "nbformat_minor": 0,
  "metadata": {
    "colab": {
      "provenance": [],
      "authorship_tag": "ABX9TyMIEuPRq3FFLU1MIB+cOu05",
      "include_colab_link": true
    },
    "kernelspec": {
      "name": "python3",
      "display_name": "Python 3"
    },
    "language_info": {
      "name": "python"
    },
    "accelerator": "TPU",
    "gpuClass": "standard"
  },
  "cells": [
    {
      "cell_type": "markdown",
      "metadata": {
        "id": "view-in-github",
        "colab_type": "text"
      },
      "source": [
        "<a href=\"https://colab.research.google.com/github/Duncanswilson/gpt4-code-generation/blob/main/cifar_tpu.ipynb\" target=\"_parent\"><img src=\"https://colab.research.google.com/assets/colab-badge.svg\" alt=\"Open In Colab\"/></a>"
      ]
    },
    {
      "cell_type": "code",
      "source": [
        "# Step 1: Install required libraries\n",
        "!pip install -q tensorflow numpy\n",
        "\n",
        "# Step 2: Connect to a TPU runtime\n",
        "%tensorflow_version 2.x\n",
        "import tensorflow as tf\n",
        "import os\n",
        "try:\n",
        "  device_name = os.environ['COLAB_TPU_ADDR']\n",
        "  TPU_ADDRESS = 'grpc://' + device_name\n",
        "  print('Found TPU at: {}'.format(TPU_ADDRESS))\n",
        "  resolver = tf.distribute.cluster_resolver.TPUClusterResolver(tpu=TPU_ADDRESS)\n",
        "  tf.config.experimental_connect_to_cluster(resolver)\n",
        "  tf.tpu.experimental.initialize_tpu_system(resolver)\n",
        "  strategy = tf.distribute.experimental.TPUStrategy(resolver)\n",
        "except KeyError:\n",
        " print('TPU not found')\n",
        "\n",
        "# Step 3: Load the CIFAR-10 dataset\n",
        "(x_train, y_train), (x_test, y_test) = tf.keras.datasets.cifar10.load_data()\n",
        "\n",
        "# Step 4: Preprocess the data\n",
        "x_train, x_test = x_train / 255.0, x_test / 255.0\n",
        "y_train, y_test = tf.keras.utils.to_categorical(y_train), tf.keras.utils.to_categorical(y_test)\n",
        "\n",
        "# Step 5: Build the DNN model\n",
        "def create_model():\n",
        "    model = tf.keras.models.Sequential([\n",
        "        tf.keras.layers.Conv2D(32, (3, 3), activation='relu', input_shape=(32, 32, 3)),\n",
        "        tf.keras.layers.MaxPooling2D(2, 2),\n",
        "        tf.keras.layers.Conv2D(64, (3, 3), activation='relu'),\n",
        "        tf.keras.layers.MaxPooling2D(2, 2),\n",
        "        tf.keras.layers.Conv2D(64, (3, 3), activation='relu'),\n",
        "        tf.keras.layers.Flatten(),\n",
        "        tf.keras.layers.Dense(64, activation='relu'),\n",
        "        tf.keras.layers.Dense(10, activation='softmax')\n",
        "    ])\n",
        "    model.compile(optimizer='adam', loss='categorical_crossentropy', metrics=['accuracy'])\n",
        "    return model\n",
        "\n",
        "with strategy.scope():\n",
        "    model = create_model()\n",
        "\n",
        "# Step 6: Train the model on the TPU\n",
        "model.fit(x_train, y_train, epochs=25, batch_size=256, validation_data=(x_test, y_test))"
      ],
      "metadata": {
        "colab": {
          "base_uri": "https://localhost:8080/"
        },
        "id": "XhXPHG6AZfhw",
        "outputId": "5975ae10-5af0-4a9b-d72b-2ea0e2d1bab8"
      },
      "execution_count": 1,
      "outputs": [
        {
          "output_type": "stream",
          "name": "stdout",
          "text": [
            "Colab only includes TensorFlow 2.x; %tensorflow_version has no effect.\n",
            "Found TPU at: grpc://10.3.127.186:8470\n"
          ]
        },
        {
          "output_type": "stream",
          "name": "stderr",
          "text": [
            "WARNING:absl:`tf.distribute.experimental.TPUStrategy` is deprecated, please use  the non experimental symbol `tf.distribute.TPUStrategy` instead.\n"
          ]
        },
        {
          "output_type": "stream",
          "name": "stdout",
          "text": [
            "Epoch 1/25\n",
            "196/196 [==============================] - 12s 40ms/step - loss: 1.7867 - accuracy: 0.3448 - val_loss: 1.5501 - val_accuracy: 0.4324\n",
            "Epoch 2/25\n",
            "196/196 [==============================] - 4s 23ms/step - loss: 1.4515 - accuracy: 0.4767 - val_loss: 1.3774 - val_accuracy: 0.5058\n",
            "Epoch 3/25\n",
            "196/196 [==============================] - 5s 24ms/step - loss: 1.3258 - accuracy: 0.5264 - val_loss: 1.2619 - val_accuracy: 0.5466\n",
            "Epoch 4/25\n",
            "196/196 [==============================] - 5s 24ms/step - loss: 1.2415 - accuracy: 0.5607 - val_loss: 1.2428 - val_accuracy: 0.5555\n",
            "Epoch 5/25\n",
            "196/196 [==============================] - 4s 22ms/step - loss: 1.1622 - accuracy: 0.5891 - val_loss: 1.1631 - val_accuracy: 0.5837\n",
            "Epoch 6/25\n",
            "196/196 [==============================] - 4s 22ms/step - loss: 1.0966 - accuracy: 0.6143 - val_loss: 1.0756 - val_accuracy: 0.6157\n",
            "Epoch 7/25\n",
            "196/196 [==============================] - 5s 23ms/step - loss: 1.0282 - accuracy: 0.6378 - val_loss: 1.0399 - val_accuracy: 0.6326\n",
            "Epoch 8/25\n",
            "196/196 [==============================] - 4s 22ms/step - loss: 0.9881 - accuracy: 0.6538 - val_loss: 1.0127 - val_accuracy: 0.6385\n",
            "Epoch 9/25\n",
            "196/196 [==============================] - 4s 22ms/step - loss: 0.9495 - accuracy: 0.6663 - val_loss: 0.9942 - val_accuracy: 0.6526\n",
            "Epoch 10/25\n",
            "196/196 [==============================] - 5s 24ms/step - loss: 0.9216 - accuracy: 0.6789 - val_loss: 0.9468 - val_accuracy: 0.6684\n",
            "Epoch 11/25\n",
            "196/196 [==============================] - 4s 23ms/step - loss: 0.8847 - accuracy: 0.6914 - val_loss: 0.9466 - val_accuracy: 0.6710\n",
            "Epoch 12/25\n",
            "196/196 [==============================] - 4s 23ms/step - loss: 0.8618 - accuracy: 0.6996 - val_loss: 0.9179 - val_accuracy: 0.6825\n",
            "Epoch 13/25\n",
            "196/196 [==============================] - 5s 23ms/step - loss: 0.8319 - accuracy: 0.7116 - val_loss: 0.8839 - val_accuracy: 0.6928\n",
            "Epoch 14/25\n",
            "196/196 [==============================] - 4s 23ms/step - loss: 0.8080 - accuracy: 0.7168 - val_loss: 0.9077 - val_accuracy: 0.6859\n",
            "Epoch 15/25\n",
            "196/196 [==============================] - 4s 22ms/step - loss: 0.7996 - accuracy: 0.7221 - val_loss: 0.9081 - val_accuracy: 0.6848\n",
            "Epoch 16/25\n",
            "196/196 [==============================] - 5s 23ms/step - loss: 0.7673 - accuracy: 0.7330 - val_loss: 0.8652 - val_accuracy: 0.7044\n",
            "Epoch 17/25\n",
            "196/196 [==============================] - 5s 24ms/step - loss: 0.7496 - accuracy: 0.7394 - val_loss: 0.9033 - val_accuracy: 0.6903\n",
            "Epoch 18/25\n",
            "196/196 [==============================] - 4s 22ms/step - loss: 0.7307 - accuracy: 0.7448 - val_loss: 0.8967 - val_accuracy: 0.6954\n",
            "Epoch 19/25\n",
            "196/196 [==============================] - 4s 22ms/step - loss: 0.7104 - accuracy: 0.7540 - val_loss: 0.8499 - val_accuracy: 0.7070\n",
            "Epoch 20/25\n",
            "196/196 [==============================] - 5s 23ms/step - loss: 0.7025 - accuracy: 0.7551 - val_loss: 0.8620 - val_accuracy: 0.7074\n",
            "Epoch 21/25\n",
            "196/196 [==============================] - 4s 22ms/step - loss: 0.6784 - accuracy: 0.7640 - val_loss: 0.8884 - val_accuracy: 0.6974\n",
            "Epoch 22/25\n",
            "196/196 [==============================] - 4s 22ms/step - loss: 0.6662 - accuracy: 0.7672 - val_loss: 0.8528 - val_accuracy: 0.7131\n",
            "Epoch 23/25\n",
            "196/196 [==============================] - 5s 23ms/step - loss: 0.6488 - accuracy: 0.7744 - val_loss: 0.8383 - val_accuracy: 0.7173\n",
            "Epoch 24/25\n",
            "196/196 [==============================] - 4s 22ms/step - loss: 0.6315 - accuracy: 0.7787 - val_loss: 0.8844 - val_accuracy: 0.7005\n",
            "Epoch 25/25\n",
            "196/196 [==============================] - 5s 24ms/step - loss: 0.6217 - accuracy: 0.7818 - val_loss: 0.8549 - val_accuracy: 0.7167\n"
          ]
        },
        {
          "output_type": "execute_result",
          "data": {
            "text/plain": [
              "<keras.callbacks.History at 0x7fa1e837b580>"
            ]
          },
          "metadata": {},
          "execution_count": 1
        }
      ]
    },
    {
      "cell_type": "code",
      "source": [
        "# Step 1: Install the required libraries\n",
        "!pip install -q tf2onnx\n",
        "\n",
        "# Step 2: Save the TensorFlow model to a SavedModel format\n",
        "model.save('cifar_model')\n",
        "\n",
        "# Step 3: Convert the TensorFlow model to ONNX format\n",
        "import tf2onnx\n",
        "\n",
        "model_proto, _ = tf2onnx.convert.from_keras(model, input_signature=None, opset=13)\n",
        "onnx_model_path = 'cifar_model.onnx'\n",
        "\n",
        "# Step 4: Save the ONNX model to a file\n",
        "with open(onnx_model_path, 'wb') as f:\n",
        "    f.write(model_proto.SerializeToString())"
      ],
      "metadata": {
        "colab": {
          "base_uri": "https://localhost:8080/",
          "height": 536
        },
        "id": "1X-KjVM4DJIr",
        "outputId": "b07aadec-61cf-468a-c933-731d5590e710"
      },
      "execution_count": 2,
      "outputs": [
        {
          "output_type": "stream",
          "name": "stdout",
          "text": [
            "\u001b[2K     \u001b[90m━━━━━━━━━━━━━━━━━━━━━━━━━━━━━━━━━━━━━━━\u001b[0m \u001b[32m451.2/451.2 KB\u001b[0m \u001b[31m8.4 MB/s\u001b[0m eta \u001b[36m0:00:00\u001b[0m\n",
            "\u001b[2K     \u001b[90m━━━━━━━━━━━━━━━━━━━━━━━━━━━━━━━━━━━━━━━━\u001b[0m \u001b[32m13.5/13.5 MB\u001b[0m \u001b[31m56.3 MB/s\u001b[0m eta \u001b[36m0:00:00\u001b[0m\n",
            "\u001b[2K     \u001b[90m━━━━━━━━━━━━━━━━━━━━━━━━━━━━━━━━━━━━━━━━\u001b[0m \u001b[32m1.0/1.0 MB\u001b[0m \u001b[31m25.9 MB/s\u001b[0m eta \u001b[36m0:00:00\u001b[0m\n",
            "\u001b[?25h\u001b[31mERROR: pip's dependency resolver does not currently take into account all the packages that are installed. This behaviour is the source of the following dependency conflicts.\n",
            "tensorflow 2.11.0 requires protobuf<3.20,>=3.9.2, but you have protobuf 3.20.3 which is incompatible.\u001b[0m\u001b[31m\n",
            "\u001b[0m"
          ]
        },
        {
          "output_type": "stream",
          "name": "stderr",
          "text": [
            "WARNING:absl:Found untraced functions such as _jit_compiled_convolution_op, _jit_compiled_convolution_op, _jit_compiled_convolution_op, _update_step_xla while saving (showing 4 of 4). These functions will not be directly callable after loading.\n"
          ]
        },
        {
          "output_type": "error",
          "ename": "ValueError",
          "evalue": "ignored",
          "traceback": [
            "\u001b[0;31m---------------------------------------------------------------------------\u001b[0m",
            "\u001b[0;31mValueError\u001b[0m                                Traceback (most recent call last)",
            "\u001b[0;32m<ipython-input-2-c1e23739417a>\u001b[0m in \u001b[0;36m<module>\u001b[0;34m\u001b[0m\n\u001b[1;32m      8\u001b[0m \u001b[0;32mimport\u001b[0m \u001b[0mtf2onnx\u001b[0m\u001b[0;34m\u001b[0m\u001b[0;34m\u001b[0m\u001b[0m\n\u001b[1;32m      9\u001b[0m \u001b[0;34m\u001b[0m\u001b[0m\n\u001b[0;32m---> 10\u001b[0;31m \u001b[0mmodel_proto\u001b[0m\u001b[0;34m,\u001b[0m \u001b[0m_\u001b[0m \u001b[0;34m=\u001b[0m \u001b[0mtf2onnx\u001b[0m\u001b[0;34m.\u001b[0m\u001b[0mconvert\u001b[0m\u001b[0;34m.\u001b[0m\u001b[0mfrom_keras\u001b[0m\u001b[0;34m(\u001b[0m\u001b[0mmodel\u001b[0m\u001b[0;34m,\u001b[0m \u001b[0minput_signature\u001b[0m\u001b[0;34m=\u001b[0m\u001b[0;32mNone\u001b[0m\u001b[0;34m,\u001b[0m \u001b[0mopset\u001b[0m\u001b[0;34m=\u001b[0m\u001b[0;36m13\u001b[0m\u001b[0;34m)\u001b[0m\u001b[0;34m\u001b[0m\u001b[0;34m\u001b[0m\u001b[0m\n\u001b[0m\u001b[1;32m     11\u001b[0m \u001b[0monnx_model_path\u001b[0m \u001b[0;34m=\u001b[0m \u001b[0;34m'cifar_model.onnx'\u001b[0m\u001b[0;34m\u001b[0m\u001b[0;34m\u001b[0m\u001b[0m\n\u001b[1;32m     12\u001b[0m \u001b[0;34m\u001b[0m\u001b[0m\n",
            "\u001b[0;32m/usr/local/lib/python3.9/dist-packages/tf2onnx/convert.py\u001b[0m in \u001b[0;36mfrom_keras\u001b[0;34m(model, input_signature, opset, custom_ops, custom_op_handlers, custom_rewriter, inputs_as_nchw, outputs_as_nchw, extra_opset, shape_override, target, large_model, output_path, optimizers)\u001b[0m\n\u001b[1;32m    495\u001b[0m     \u001b[0;32mwith\u001b[0m \u001b[0mtf\u001b[0m\u001b[0;34m.\u001b[0m\u001b[0mdevice\u001b[0m\u001b[0;34m(\u001b[0m\u001b[0;34m\"/cpu:0\"\u001b[0m\u001b[0;34m)\u001b[0m\u001b[0;34m:\u001b[0m\u001b[0;34m\u001b[0m\u001b[0;34m\u001b[0m\u001b[0m\n\u001b[1;32m    496\u001b[0m         \u001b[0mfrozen_graph\u001b[0m\u001b[0;34m,\u001b[0m \u001b[0minitialized_tables\u001b[0m \u001b[0;34m=\u001b[0m\u001b[0;31m \u001b[0m\u001b[0;31m\\\u001b[0m\u001b[0;34m\u001b[0m\u001b[0;34m\u001b[0m\u001b[0m\n\u001b[0;32m--> 497\u001b[0;31m             \u001b[0mtf_loader\u001b[0m\u001b[0;34m.\u001b[0m\u001b[0mfrom_trackable\u001b[0m\u001b[0;34m(\u001b[0m\u001b[0mmodel\u001b[0m\u001b[0;34m,\u001b[0m \u001b[0mconcrete_func\u001b[0m\u001b[0;34m,\u001b[0m \u001b[0minput_names\u001b[0m\u001b[0;34m,\u001b[0m \u001b[0moutput_names\u001b[0m\u001b[0;34m,\u001b[0m \u001b[0mlarge_model\u001b[0m\u001b[0;34m)\u001b[0m\u001b[0;34m\u001b[0m\u001b[0;34m\u001b[0m\u001b[0m\n\u001b[0m\u001b[1;32m    498\u001b[0m         model_proto, external_tensor_storage = _convert_common(\n\u001b[1;32m    499\u001b[0m             \u001b[0mfrozen_graph\u001b[0m\u001b[0;34m,\u001b[0m\u001b[0;34m\u001b[0m\u001b[0;34m\u001b[0m\u001b[0m\n",
            "\u001b[0;32m/usr/local/lib/python3.9/dist-packages/tf2onnx/tf_loader.py\u001b[0m in \u001b[0;36mfrom_trackable\u001b[0;34m(trackable, concrete_func, inputs, outputs, large_model)\u001b[0m\n\u001b[1;32m    213\u001b[0m     \u001b[0;31m# Avoid errors due to bug in TF freezing\u001b[0m\u001b[0;34m\u001b[0m\u001b[0;34m\u001b[0m\u001b[0m\n\u001b[1;32m    214\u001b[0m     \u001b[0mremoved_resource_to_placeholder\u001b[0m\u001b[0;34m,\u001b[0m \u001b[0mplaceholder_to_resource\u001b[0m\u001b[0;34m,\u001b[0m \u001b[0mgraph_captures_copy\u001b[0m\u001b[0;34m,\u001b[0m \u001b[0mfunc_captures_copy\u001b[0m \u001b[0;34m=\u001b[0m\u001b[0;31m \u001b[0m\u001b[0;31m\\\u001b[0m\u001b[0;34m\u001b[0m\u001b[0;34m\u001b[0m\u001b[0m\n\u001b[0;32m--> 215\u001b[0;31m         \u001b[0m_remove_non_variable_resources_from_captures\u001b[0m\u001b[0;34m(\u001b[0m\u001b[0mconcrete_func\u001b[0m\u001b[0;34m)\u001b[0m\u001b[0;34m\u001b[0m\u001b[0;34m\u001b[0m\u001b[0m\n\u001b[0m\u001b[1;32m    216\u001b[0m \u001b[0;34m\u001b[0m\u001b[0m\n\u001b[1;32m    217\u001b[0m     \u001b[0;32mtry\u001b[0m\u001b[0;34m:\u001b[0m\u001b[0;34m\u001b[0m\u001b[0;34m\u001b[0m\u001b[0m\n",
            "\u001b[0;32m/usr/local/lib/python3.9/dist-packages/tf2onnx/tf_loader.py\u001b[0m in \u001b[0;36m_remove_non_variable_resources_from_captures\u001b[0;34m(concrete_func)\u001b[0m\n\u001b[1;32m    495\u001b[0m         \u001b[0mgraph_captures_copy\u001b[0m \u001b[0;34m=\u001b[0m \u001b[0mconcrete_func\u001b[0m\u001b[0;34m.\u001b[0m\u001b[0mgraph\u001b[0m\u001b[0;34m.\u001b[0m\u001b[0m_captures\u001b[0m\u001b[0;34m.\u001b[0m\u001b[0mcopy\u001b[0m\u001b[0;34m(\u001b[0m\u001b[0;34m)\u001b[0m\u001b[0;34m\u001b[0m\u001b[0;34m\u001b[0m\u001b[0m\n\u001b[1;32m    496\u001b[0m         \u001b[0mfunc_captures_copy\u001b[0m \u001b[0;34m=\u001b[0m \u001b[0mconcrete_func\u001b[0m\u001b[0;34m.\u001b[0m\u001b[0m_captured_inputs\u001b[0m\u001b[0;34m.\u001b[0m\u001b[0mcopy\u001b[0m\u001b[0;34m(\u001b[0m\u001b[0;34m)\u001b[0m\u001b[0;34m\u001b[0m\u001b[0;34m\u001b[0m\u001b[0m\n\u001b[0;32m--> 497\u001b[0;31m         \u001b[0mvariable_handles\u001b[0m \u001b[0;34m=\u001b[0m \u001b[0;34m{\u001b[0m\u001b[0mid\u001b[0m\u001b[0;34m(\u001b[0m\u001b[0mv\u001b[0m\u001b[0;34m.\u001b[0m\u001b[0mhandle\u001b[0m\u001b[0;34m)\u001b[0m \u001b[0;32mfor\u001b[0m \u001b[0mv\u001b[0m \u001b[0;32min\u001b[0m \u001b[0mconcrete_func\u001b[0m\u001b[0;34m.\u001b[0m\u001b[0mgraph\u001b[0m\u001b[0;34m.\u001b[0m\u001b[0mvariables\u001b[0m\u001b[0;34m}\u001b[0m\u001b[0;34m\u001b[0m\u001b[0;34m\u001b[0m\u001b[0m\n\u001b[0m\u001b[1;32m    498\u001b[0m         \u001b[0;32mfor\u001b[0m \u001b[0mk\u001b[0m\u001b[0;34m,\u001b[0m \u001b[0mv\u001b[0m \u001b[0;32min\u001b[0m \u001b[0mlist\u001b[0m\u001b[0;34m(\u001b[0m\u001b[0mconcrete_func\u001b[0m\u001b[0;34m.\u001b[0m\u001b[0mgraph\u001b[0m\u001b[0;34m.\u001b[0m\u001b[0m_captures\u001b[0m\u001b[0;34m.\u001b[0m\u001b[0mitems\u001b[0m\u001b[0;34m(\u001b[0m\u001b[0;34m)\u001b[0m\u001b[0;34m)\u001b[0m\u001b[0;34m:\u001b[0m\u001b[0;34m\u001b[0m\u001b[0;34m\u001b[0m\u001b[0m\n\u001b[1;32m    499\u001b[0m             \u001b[0mval_tensor\u001b[0m\u001b[0;34m,\u001b[0m \u001b[0mname_tensor\u001b[0m \u001b[0;34m=\u001b[0m \u001b[0mv\u001b[0m\u001b[0;34m\u001b[0m\u001b[0;34m\u001b[0m\u001b[0m\n",
            "\u001b[0;32m/usr/local/lib/python3.9/dist-packages/tf2onnx/tf_loader.py\u001b[0m in \u001b[0;36m<setcomp>\u001b[0;34m(.0)\u001b[0m\n\u001b[1;32m    495\u001b[0m         \u001b[0mgraph_captures_copy\u001b[0m \u001b[0;34m=\u001b[0m \u001b[0mconcrete_func\u001b[0m\u001b[0;34m.\u001b[0m\u001b[0mgraph\u001b[0m\u001b[0;34m.\u001b[0m\u001b[0m_captures\u001b[0m\u001b[0;34m.\u001b[0m\u001b[0mcopy\u001b[0m\u001b[0;34m(\u001b[0m\u001b[0;34m)\u001b[0m\u001b[0;34m\u001b[0m\u001b[0;34m\u001b[0m\u001b[0m\n\u001b[1;32m    496\u001b[0m         \u001b[0mfunc_captures_copy\u001b[0m \u001b[0;34m=\u001b[0m \u001b[0mconcrete_func\u001b[0m\u001b[0;34m.\u001b[0m\u001b[0m_captured_inputs\u001b[0m\u001b[0;34m.\u001b[0m\u001b[0mcopy\u001b[0m\u001b[0;34m(\u001b[0m\u001b[0;34m)\u001b[0m\u001b[0;34m\u001b[0m\u001b[0;34m\u001b[0m\u001b[0m\n\u001b[0;32m--> 497\u001b[0;31m         \u001b[0mvariable_handles\u001b[0m \u001b[0;34m=\u001b[0m \u001b[0;34m{\u001b[0m\u001b[0mid\u001b[0m\u001b[0;34m(\u001b[0m\u001b[0mv\u001b[0m\u001b[0;34m.\u001b[0m\u001b[0mhandle\u001b[0m\u001b[0;34m)\u001b[0m \u001b[0;32mfor\u001b[0m \u001b[0mv\u001b[0m \u001b[0;32min\u001b[0m \u001b[0mconcrete_func\u001b[0m\u001b[0;34m.\u001b[0m\u001b[0mgraph\u001b[0m\u001b[0;34m.\u001b[0m\u001b[0mvariables\u001b[0m\u001b[0;34m}\u001b[0m\u001b[0;34m\u001b[0m\u001b[0;34m\u001b[0m\u001b[0m\n\u001b[0m\u001b[1;32m    498\u001b[0m         \u001b[0;32mfor\u001b[0m \u001b[0mk\u001b[0m\u001b[0;34m,\u001b[0m \u001b[0mv\u001b[0m \u001b[0;32min\u001b[0m \u001b[0mlist\u001b[0m\u001b[0;34m(\u001b[0m\u001b[0mconcrete_func\u001b[0m\u001b[0;34m.\u001b[0m\u001b[0mgraph\u001b[0m\u001b[0;34m.\u001b[0m\u001b[0m_captures\u001b[0m\u001b[0;34m.\u001b[0m\u001b[0mitems\u001b[0m\u001b[0;34m(\u001b[0m\u001b[0;34m)\u001b[0m\u001b[0;34m)\u001b[0m\u001b[0;34m:\u001b[0m\u001b[0;34m\u001b[0m\u001b[0;34m\u001b[0m\u001b[0m\n\u001b[1;32m    499\u001b[0m             \u001b[0mval_tensor\u001b[0m\u001b[0;34m,\u001b[0m \u001b[0mname_tensor\u001b[0m \u001b[0;34m=\u001b[0m \u001b[0mv\u001b[0m\u001b[0;34m\u001b[0m\u001b[0;34m\u001b[0m\u001b[0m\n",
            "\u001b[0;32m/usr/local/lib/python3.9/dist-packages/tensorflow/python/distribute/packed_distributed_variable.py\u001b[0m in \u001b[0;36mhandle\u001b[0;34m(self)\u001b[0m\n\u001b[1;32m    101\u001b[0m   \u001b[0;32mdef\u001b[0m \u001b[0mhandle\u001b[0m\u001b[0;34m(\u001b[0m\u001b[0mself\u001b[0m\u001b[0;34m)\u001b[0m\u001b[0;34m:\u001b[0m\u001b[0;34m\u001b[0m\u001b[0;34m\u001b[0m\u001b[0m\n\u001b[1;32m    102\u001b[0m     \u001b[0;32mif\u001b[0m \u001b[0mcontext\u001b[0m\u001b[0;34m.\u001b[0m\u001b[0mexecuting_eagerly\u001b[0m\u001b[0;34m(\u001b[0m\u001b[0;34m)\u001b[0m\u001b[0;34m:\u001b[0m\u001b[0;34m\u001b[0m\u001b[0;34m\u001b[0m\u001b[0m\n\u001b[0;32m--> 103\u001b[0;31m       \u001b[0;32mreturn\u001b[0m \u001b[0mself\u001b[0m\u001b[0;34m.\u001b[0m\u001b[0mget_var_on_current_device\u001b[0m\u001b[0;34m(\u001b[0m\u001b[0;34m)\u001b[0m\u001b[0;34m.\u001b[0m\u001b[0mhandle\u001b[0m\u001b[0;34m\u001b[0m\u001b[0;34m\u001b[0m\u001b[0m\n\u001b[0m\u001b[1;32m    104\u001b[0m     \u001b[0;32melse\u001b[0m\u001b[0;34m:\u001b[0m\u001b[0;34m\u001b[0m\u001b[0;34m\u001b[0m\u001b[0m\n\u001b[1;32m    105\u001b[0m       \u001b[0;32mreturn\u001b[0m \u001b[0mself\u001b[0m\u001b[0;34m.\u001b[0m\u001b[0m_handle\u001b[0m\u001b[0;34m\u001b[0m\u001b[0;34m\u001b[0m\u001b[0m\n",
            "\u001b[0;32m/usr/local/lib/python3.9/dist-packages/tensorflow/python/distribute/packed_distributed_variable.py\u001b[0m in \u001b[0;36mget_var_on_current_device\u001b[0;34m(self)\u001b[0m\n\u001b[1;32m     92\u001b[0m   \u001b[0;32mdef\u001b[0m \u001b[0mget_var_on_current_device\u001b[0m\u001b[0;34m(\u001b[0m\u001b[0mself\u001b[0m\u001b[0;34m)\u001b[0m\u001b[0;34m:\u001b[0m\u001b[0;34m\u001b[0m\u001b[0;34m\u001b[0m\u001b[0m\n\u001b[1;32m     93\u001b[0m     \u001b[0mcurrent_device\u001b[0m \u001b[0;34m=\u001b[0m \u001b[0mdevice_util\u001b[0m\u001b[0;34m.\u001b[0m\u001b[0mcanonicalize\u001b[0m\u001b[0;34m(\u001b[0m\u001b[0mdevice_util\u001b[0m\u001b[0;34m.\u001b[0m\u001b[0mcurrent\u001b[0m\u001b[0;34m(\u001b[0m\u001b[0;34m)\u001b[0m\u001b[0;34m)\u001b[0m\u001b[0;34m\u001b[0m\u001b[0;34m\u001b[0m\u001b[0m\n\u001b[0;32m---> 94\u001b[0;31m     \u001b[0;32mreturn\u001b[0m \u001b[0mself\u001b[0m\u001b[0;34m.\u001b[0m\u001b[0mget_var_on_device\u001b[0m\u001b[0;34m(\u001b[0m\u001b[0mcurrent_device\u001b[0m\u001b[0;34m)\u001b[0m\u001b[0;34m\u001b[0m\u001b[0;34m\u001b[0m\u001b[0m\n\u001b[0m\u001b[1;32m     95\u001b[0m \u001b[0;34m\u001b[0m\u001b[0m\n\u001b[1;32m     96\u001b[0m   \u001b[0;32mdef\u001b[0m \u001b[0minitial_value\u001b[0m\u001b[0;34m(\u001b[0m\u001b[0mself\u001b[0m\u001b[0;34m,\u001b[0m \u001b[0mdevice\u001b[0m\u001b[0;34m)\u001b[0m\u001b[0;34m:\u001b[0m\u001b[0;34m\u001b[0m\u001b[0;34m\u001b[0m\u001b[0m\n",
            "\u001b[0;32m/usr/local/lib/python3.9/dist-packages/tensorflow/python/distribute/packed_distributed_variable.py\u001b[0m in \u001b[0;36mget_var_on_device\u001b[0;34m(self, device)\u001b[0m\n\u001b[1;32m     88\u001b[0m       \u001b[0;32mif\u001b[0m \u001b[0md\u001b[0m \u001b[0;34m==\u001b[0m \u001b[0mdevice\u001b[0m\u001b[0;34m:\u001b[0m\u001b[0;34m\u001b[0m\u001b[0;34m\u001b[0m\u001b[0m\n\u001b[1;32m     89\u001b[0m         \u001b[0;32mreturn\u001b[0m \u001b[0mself\u001b[0m\u001b[0;34m.\u001b[0m\u001b[0m_distributed_variables\u001b[0m\u001b[0;34m[\u001b[0m\u001b[0mi\u001b[0m\u001b[0;34m]\u001b[0m\u001b[0;34m\u001b[0m\u001b[0;34m\u001b[0m\u001b[0m\n\u001b[0;32m---> 90\u001b[0;31m     \u001b[0;32mraise\u001b[0m \u001b[0mValueError\u001b[0m\u001b[0;34m(\u001b[0m\u001b[0;34m\"Device %s is not found\"\u001b[0m \u001b[0;34m%\u001b[0m \u001b[0mdevice\u001b[0m\u001b[0;34m)\u001b[0m\u001b[0;34m\u001b[0m\u001b[0;34m\u001b[0m\u001b[0m\n\u001b[0m\u001b[1;32m     91\u001b[0m \u001b[0;34m\u001b[0m\u001b[0m\n\u001b[1;32m     92\u001b[0m   \u001b[0;32mdef\u001b[0m \u001b[0mget_var_on_current_device\u001b[0m\u001b[0;34m(\u001b[0m\u001b[0mself\u001b[0m\u001b[0;34m)\u001b[0m\u001b[0;34m:\u001b[0m\u001b[0;34m\u001b[0m\u001b[0;34m\u001b[0m\u001b[0m\n",
            "\u001b[0;31mValueError\u001b[0m: Device /job:worker/replica:0/task:0/device:CPU:0 is not found"
          ]
        }
      ]
    },
    {
      "cell_type": "code",
      "source": [],
      "metadata": {
        "id": "7ZzFes78BPCU"
      },
      "execution_count": 1,
      "outputs": []
    }
  ]
}